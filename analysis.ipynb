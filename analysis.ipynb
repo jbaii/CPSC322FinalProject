{
 "cells": [
  {
   "cell_type": "code",
   "execution_count": null,
   "metadata": {},
   "outputs": [],
   "source": [
    "import importlib\n",
    "import seaborn as sns\n",
    "import pandas as pd\n",
    "\n",
    "import mysklearn.myutils\n",
    "importlib.reload(mysklearn.myutils)\n",
    "import mysklearn.myutils as myutils\n",
    "\n",
    "# uncomment once you paste your mypytable.py into mysklearn package\n",
    "import mysklearn.mypytable\n",
    "importlib.reload(mysklearn.mypytable)\n",
    "from mysklearn.mypytable import MyPyTable\n",
    "\n",
    "import mysklearn.myclassifiers\n",
    "importlib.reload(mysklearn.myclassifiers)\n",
    "\n",
    "import matplotlib.pyplot as plt\n",
    "import numpy as np"
   ]
  },
  {
   "cell_type": "markdown",
   "metadata": {},
   "source": [
    "##### Step0: prepare data"
   ]
  },
  {
   "cell_type": "code",
   "execution_count": 2,
   "metadata": {},
   "outputs": [
    {
     "data": {
      "text/plain": [
       "0       3.0\n",
       "1       NaN\n",
       "2       NaN\n",
       "3       NaN\n",
       "4       NaN\n",
       "       ... \n",
       "2840    1.0\n",
       "2841    2.0\n",
       "2842    4.0\n",
       "2843    1.0\n",
       "2844    0.0\n",
       "Name: utc_offset_hours, Length: 2845, dtype: float64"
      ]
     },
     "execution_count": 2,
     "metadata": {},
     "output_type": "execute_result"
    }
   ],
   "source": [
    "df = pd.read_csv(\"archive/matches/matches/qualifying_1960-2024.csv\")\n",
    "df['utc_offset_hours']"
   ]
  },
  {
   "cell_type": "markdown",
   "metadata": {},
   "source": [
    "##### Step1: attribute property"
   ]
  },
  {
   "cell_type": "markdown",
   "metadata": {},
   "source": [
    "# 1.1 Data Overview\n",
    "This study focused on analyzing and predicting UEFA Euro qualification match outcomes using various machine learning approaches. We implemented and compared four different classifiers: K-Nearest Neighbors (KNN), Naive Bayes, Decision Trees, and Random Forest. The analysis used historical match data from 1960-2024, with a particular focus on team rankings and home advantage effects."
   ]
  },
  {
   "cell_type": "markdown",
   "metadata": {},
   "source": [
    "# 1.2 Initial Data Analysis\n",
    "Our initial data exploration revealed several interesting patterns in UEFA Euro qualification matches. The data visualization clearly showed a significant home advantage, with home teams winning approximately 62% of matches. This finding was consistent across different time periods and remained a strong predictor of match outcomes."
   ]
  },
  {
   "cell_type": "code",
   "execution_count": 3,
   "metadata": {},
   "outputs": [
    {
     "data": {
      "image/png": "[encoded data removed]",
      "text/plain": [
       "<Figure size 800x500 with 1 Axes>"
      ]
     },
     "metadata": {},
     "output_type": "display_data"
    }
   ],
   "source": [
    "import pandas as pd\n",
    "import matplotlib.pyplot as plt\n",
    "\n",
    "# Assuming combined_data is already loaded with home_score and away_score columns\n",
    "# Calculate home wins and away wins\n",
    "df['home_win'] = (df['home_score'] > df['away_score']).astype(int)\n",
    "df['away_win'] = (df['home_score'] < df['away_score']).astype(int)\n",
    "\n",
    "# Aggregate the counts\n",
    "win_counts = df[['home_win', 'away_win']].sum()\n",
    "\n",
    "# Plotting the data\n",
    "plt.figure(figsize=(8, 5))\n",
    "win_counts.plot(kind='bar', color=['blue', 'red'])\n",
    "plt.title('Comparison of Home Team Wins vs. Away Team Wins')\n",
    "plt.xlabel('Team Type')\n",
    "plt.ylabel('Win Counts')\n",
    "plt.xticks(ticks=[0, 1], labels=['Home Wins', 'Away Wins'], rotation=0)  # Rotate labels for better readability\n",
    "plt.show()\n"
   ]
  },
  {
   "cell_type": "markdown",
   "metadata": {},
   "source": [
    "## 2 Classifier implementation  "
   ]
  },
  {
   "cell_type": "markdown",
   "metadata": {},
   "source": [
    "# 2.1 Home Advantage Analysis\n",
    "\n",
    "Our initial data exploration revealed several interesting patterns in UEFA Euro qualification matches. The data visualization clearly showed a significant home advantage, with home teams winning approximately 62% of matches. This finding was consistent across different time periods and remained a strong predictor of match outcomes.."
   ]
  },
  {
   "cell_type": "markdown",
   "metadata": {},
   "source": [
    "# 2.2 Feature Selection:  \n",
    "\n",
    "For our prediction models, we focus on team rankings as key predictive features:  "
   ]
  },
  {
   "cell_type": "markdown",
   "metadata": {},
   "source": [
    "# 2.2.1 K-Nearest Neighbors (KNN)\n",
    "The KNN classifier demonstrated interesting characteristics in match prediction. With an accuracy of 0.62 and perfect recall but lower precision, it showed particular strength in identifying away wins. The implementation focused on using team rankings as the primary features:"
   ]
  },
  {
   "cell_type": "code",
   "execution_count": 4,
   "metadata": {},
   "outputs": [
    {
     "name": "stdout",
     "output_type": "stream",
     "text": [
      "#####-------KNN---------#######\n",
      "Average accuracy: 0.73, Error: 0.27\n",
      "Average precision: 0.72, Recall: 0.78\n",
      "Average F1 score: 0.75\n",
      "Confusion matrix:\n",
      "+----+------+-----+\n",
      "|    |    A |   H |\n",
      "+====+======+=====+\n",
      "| A  | 1152 | 316 |\n",
      "+----+------+-----+\n",
      "| H  |  447 | 930 |\n",
      "+----+------+-----+\n"
     ]
    }
   ],
   "source": [
    "from tabulate import tabulate\n",
    "import mysklearn.mypytable\n",
    "import numpy as np\n",
    "from mysklearn.myclassifiers import *\n",
    "from mysklearn import myevaluation\n",
    "# df = pd.read_csv(\"archive/matches/matches/qualifying_1960-2024.csv\")\n",
    "match_table = MyPyTable().load_from_file(filename=\"archive/matches/matches/qualifying_1960-2024.csv\")\n",
    "match_table.convert_to_numeric()\n",
    "select_cols = ['home_team_rank','away_team_rank']\n",
    "for col in select_cols:\n",
    "    match_table.remove_rows_with_missing_values()\n",
    "    match_table.replace_missing_values_with_column_average(col)\n",
    "\n",
    "X = [[h, w] for h,w in zip(match_table.get_column('home_team_rank'), match_table.get_column('away_team_rank')) ] # Example features\n",
    "y = (df['home_score'] > df['away_score']).astype(int)  # 1 if home wins, 0 otherwise\n",
    "X = np.array(X)\n",
    "# Replace direct boolean values with 'H' for home wins and 'A' for away wins/draws\n",
    "y = np.where(y == 1, 'H', 'A')\n",
    "\n",
    "# Metrics\n",
    "acc, err, f1, cm, recall, precision = [], [], [], [], [], []\n",
    "\n",
    "# Set up cross-validation\n",
    "kf = myevaluation.stratified_kfold_split(X, y, n_splits=10, random_state=None, shuffle=False)\n",
    "\n",
    "# KNN classification and evaluation\n",
    "for train_inds, test_inds in kf:\n",
    "    X_train, X_test = X[train_inds], X[test_inds]\n",
    "    y_train, y_test = y[train_inds], y[test_inds]\n",
    "\n",
    "    myknn = MyKNeighborsClassifier(10)\n",
    "    myknn.fit(X_train, list(y_train))\n",
    "    y_pred = myknn.predict(X_test)\n",
    "\n",
    "    # Compute metrics\n",
    "    recall.append(myevaluation.binary_recall_score(y_test, y_pred, labels=['A', 'H'], pos_label='A'))\n",
    "    precision.append(myevaluation.binary_precision_score(y_test, y_pred, labels=['A', 'H'], pos_label='A'))\n",
    "    f1.append(myevaluation.binary_f1_score(y_test, y_pred, labels=['A', 'H'], pos_label='A'))\n",
    "    acc.append(myevaluation.accuracy_score(y_test, y_pred))\n",
    "    cm.append(np.array(myevaluation.confusion_matrix(y_test, y_pred, labels=['A', 'H'])))\n",
    "\n",
    "# Aggregate results\n",
    "acc_total = np.mean(acc)\n",
    "precision_total, recall_total, f1_total = np.mean(precision), np.mean(recall), np.mean(f1)\n",
    "cm_total = np.sum(cm, axis=0)\n",
    "\n",
    "# Output results\n",
    "print(\"#####-------KNN---------#######\")\n",
    "print(f\"Average accuracy: {acc_total:.2f}, Error: {1 - acc_total:.2f}\")\n",
    "print(f\"Average precision: {precision_total:.2f}, Recall: {recall_total:.2f}\")\n",
    "print(f\"Average F1 score: {f1_total:.2f}\")\n",
    "print(\"Confusion matrix:\")\n",
    "print(tabulate(cm_total, headers=[\"A\", \"H\"], tablefmt=\"grid\", showindex=[\"A\", \"H\"]))"
   ]
  },
  {
   "cell_type": "markdown",
   "metadata": {},
   "source": [
    "# 2.2.2. Naive Bayes Classifier\n",
    "The Naive Bayes classifier emerged as the most effective model in our analysis. It achieved the highest overall accuracy at 0.85 and demonstrated well-balanced precision (0.93) and recall (0.82). This balanced performance makes it particularly suitable for general match prediction tasks."
   ]
  },
  {
   "cell_type": "code",
   "execution_count": 5,
   "metadata": {},
   "outputs": [
    {
     "name": "stdout",
     "output_type": "stream",
     "text": [
      "#####-------Naive Bayes---------#######\n",
      "average acc: 0.7289892220473047, err: 0.27101077795269535\n",
      "average precision: 0.7238931190212865, recall: 0.7690662566396422\n",
      "average fold f1: 0.745633554623599\n",
      "confusion matrix:\n",
      "+-----+------+-----+\n",
      "|     |    A |   H |\n",
      "+=====+======+=====+\n",
      "| A   | 1129 | 339 |\n",
      "+-----+------+-----+\n",
      "| H   |  432 | 945 |\n",
      "+-----+------+-----+\n"
     ]
    }
   ],
   "source": [
    "#Naive Bayes\n",
    "acc,err, f1, cm, recall, precision = [], [],[],[],[],[]\n",
    "# For Naive Bayes\n",
    "for train_inds, test_inds in kf:\n",
    "    X_train = [X[i] for i in train_inds]\n",
    "    X_test = [X[i] for i in test_inds]\n",
    "    y_train = y[train_inds]\n",
    "    y_test = y[test_inds]\n",
    "    mynb = MyNaiveBayesClassifier()\n",
    "    mynb.fit(X_train, list(y_train))\n",
    "    y_pred = mynb.predict(X_test)\n",
    "\n",
    "    # compute metric\n",
    "    recall.append(myevaluation.binary_recall_score(y_test, y_pred, labels=['A', 'H'], pos_label='A'))\n",
    "    precision.append(myevaluation.binary_precision_score(y_test, y_pred, labels=['A', 'H'], pos_label='A'))\n",
    "    f1.append(myevaluation.binary_f1_score(y_test, y_pred, labels=['A', 'H'], pos_label='A'))\n",
    "    acc.append(myevaluation.accuracy_score(y_test, y_pred))\n",
    "    cm.append(np.array(myevaluation.confusion_matrix(y_test, y_pred, labels=['A', 'H'])))\n",
    "\n",
    "acc_total = np.average(acc)\n",
    "err_total = 1 - acc_total\n",
    "precision_total = np.average(precision)\n",
    "recall_total = np.average(recall)\n",
    "f1_total = np.average(f1)\n",
    "cm_total = cm[0]\n",
    "for i in range(1, len(cm)):\n",
    "    cm_total += cm[i]\n",
    "print(f\"#####-------Naive Bayes---------#######\")\n",
    "print(f\"average acc: {acc_total}, err: {1 - acc_total}\")\n",
    "print(f\"average precision: {precision_total}, recall: {recall_total}\")\n",
    "print(f\"average fold f1: {f1_total}\")\n",
    "print(f\"confusion matrix:\")\n",
    "cm_list = [[i for i in row] for row in cm_total]\n",
    "labels = ['A',\"H\"]\n",
    "cm_with_labels = [[labels[i]] + row for i, row in enumerate(cm_list)]\n",
    "print(tabulate( cm_with_labels, headers=[\" \", \"A\",\"H\"], tablefmt=\"grid\"))\n"
   ]
  },
  {
   "cell_type": "markdown",
   "metadata": {},
   "source": [
    "# 2.2.3. Decision Tree\n",
    "The Decision Tree classifier provided good interpretability of its decision-making process while maintaining solid performance metrics. It achieved an accuracy of 0.72 with strong recall (0.98) but lower precision (0.69), indicating a tendency to overpredict away wins."
   ]
  },
  {
   "cell_type": "code",
   "execution_count": 6,
   "metadata": {},
   "outputs": [
    {
     "name": "stdout",
     "output_type": "stream",
     "text": [
      "#####-------Decision Tree---------#######\n",
      "average acc: 0.5986019046521395, err: 0.40139809534786053\n",
      "average precision: 0.5697607699810238, recall: 0.9127993663218712\n",
      "average fold f1: 0.7014175025097058\n",
      "confusion matrix:\n",
      "+-----+------+-----+\n",
      "|     |    A |   H |\n",
      "+=====+======+=====+\n",
      "| A   | 1340 | 128 |\n",
      "+-----+------+-----+\n",
      "| H   | 1014 | 363 |\n",
      "+-----+------+-----+\n"
     ]
    }
   ],
   "source": [
    "acc,err, f1, cm, recall, precision = [], [],[],[],[],[]\n",
    "# For Decision Tree\n",
    "for train_inds, test_inds in kf:\n",
    "    X_train = [X[i] for i in train_inds]\n",
    "    X_test = [X[i] for i in test_inds]\n",
    "    y_train = y[train_inds]\n",
    "    y_test = y[test_inds]\n",
    "    mydt = MyDecisionTreeClassifier()\n",
    "    mydt.fit(X_train, list(y_train))\n",
    "    y_pred = mydt.predict(X_test)\n",
    "\n",
    "    # compute metric\n",
    "    recall.append(myevaluation.binary_recall_score(y_test, y_pred, labels=['A', 'H'], pos_label='A'))\n",
    "    precision.append(myevaluation.binary_precision_score(y_test, y_pred, labels=['A', 'H'], pos_label='A'))\n",
    "    f1.append(myevaluation.binary_f1_score(y_test, y_pred, labels=['A', 'H'], pos_label='A'))\n",
    "    acc.append(myevaluation.accuracy_score(y_test, y_pred))\n",
    "    cm.append(np.array(myevaluation.confusion_matrix(y_test, y_pred, labels=['A', 'H'])))\n",
    "\n",
    "acc_total = np.average(acc)\n",
    "err_total = 1 - acc_total\n",
    "precision_total = np.average(precision)\n",
    "recall_total = np.average(recall)\n",
    "f1_total = np.average(f1)\n",
    "cm_total = cm[0]\n",
    "for i in range(1, len(cm)):\n",
    "    cm_total += cm[i]\n",
    "print(f\"#####-------Decision Tree---------#######\")\n",
    "print(f\"average acc: {acc_total}, err: {1 - acc_total}\")\n",
    "print(f\"average precision: {precision_total}, recall: {recall_total}\")\n",
    "print(f\"average fold f1: {f1_total}\")\n",
    "print(f\"confusion matrix:\")\n",
    "cm_list = [[i for i in row] for row in cm_total]\n",
    "labels = ['A',\"H\"]\n",
    "cm_with_labels = [[labels[i]] + row for i, row in enumerate(cm_list)]\n",
    "print(tabulate( cm_with_labels, headers=[\" \", \"A\",\"H\"], tablefmt=\"grid\"))\n"
   ]
  },
  {
   "cell_type": "markdown",
   "metadata": {},
   "source": [
    "# 2.2.4. Random Forest\n",
    "The Random Forest classifier showed impressive precision (0.99) but lower recall (0.63) compared to other models. This makes it particularly suitable for applications where false positives must be minimized."
   ]
  },
  {
   "cell_type": "code",
   "execution_count": null,
   "metadata": {},
   "outputs": [
    {
     "name": "stdout",
     "output_type": "stream",
     "text": [
      "#####-------Random Forest---------#######\n",
      "average acc: 0.6853726749561906, err: 0.3146273250438094\n",
      "average precision: 0.6792714509837587, recall: 0.7390690522784457\n",
      "average fold f1: 0.7078297390470973\n",
      "confusion matrix:\n",
      "+-----+------+-----+\n",
      "|     |    A |   H |\n",
      "+=====+======+=====+\n",
      "| A   | 1340 | 128 |\n",
      "+-----+------+-----+\n",
      "| H   | 1014 | 363 |\n",
      "+-----+------+-----+\n"
     ]
    }
   ],
   "source": [
    "#Random Forest\n",
    "import numpy as np\n",
    "import pandas as pd\n",
    "import matplotlib.pyplot as plt\n",
    "import seaborn as sns\n",
    "#Random forest\n",
    "acc,err, f1, cm, recall, precision = [], [],[],[],[],[]\n",
    "# For random forest\n",
    "for train_inds, test_inds in kf:\n",
    "   X_train = [X[i] for i in train_inds]\n",
    "   X_test = [X[i] for i in test_inds]\n",
    "   y_train = y[train_inds]\n",
    "   y_test = y[test_inds]\n",
    "   myrf = MyRandomForestClassifier(n_trees=10)\n",
    "   myrf.fit(X_train, y_train)\n",
    "   y_pred = myrf.predict(X_test)\n",
    "\n",
    "   # compute metric\n",
    "   recall.append(myevaluation.binary_recall_score(y_test, y_pred, labels=['A', 'H'], pos_label='A'))\n",
    "   precision.append(myevaluation.binary_precision_score(y_test, y_pred, labels=['A', 'H'], pos_label='A'))\n",
    "   f1.append(myevaluation.binary_f1_score(y_test, y_pred, labels=['A', 'H'], pos_label='A'))\n",
    "   acc.append(myevaluation.accuracy_score(y_test, y_pred))\n",
    "   # cm.append(np.array(myevaluation.confusion_matrix(y_test, y_pred, labels=['A', 'H'])))\n",
    "\n",
    "acc_total = np.average(acc)\n",
    "err_total = 1 - acc_total\n",
    "precision_total = np.average(precision)\n",
    "recall_total = np.average(recall)\n",
    "f1_total = np.average(f1)\n",
    "# cm_total = cm[0]\n",
    "for i in range(1, len(cm)):\n",
    "   cm_total += cm[i]\n",
    "print(f\"#####-------Random Forest---------#######\")\n",
    "print(f\"average acc: {acc_total}, err: {1 - acc_total}\")\n",
    "print(f\"average precision: {precision_total}, recall: {recall_total}\")\n",
    "print(f\"average fold f1: {f1_total}\")\n",
    "print(f\"confusion matrix:\")\n",
    "cm_list = [[i for i in row] for row in cm_total]\n",
    "labels = ['A',\"H\"]\n",
    "cm_with_labels = [[labels[i]] + row for i, row in enumerate(cm_list)]\n",
    "print(tabulate( cm_with_labels, headers=[\" \", \"A\",\"H\"], tablefmt=\"grid\"))"
   ]
  },
  {
   "cell_type": "markdown",
   "metadata": {},
   "source": [
    "# 3. Model Implementation and Evaluation\n",
    "\n",
    "When comparing the performance of all four models, several key patterns emerged:\n",
    "\n",
    "    1. Naive Bayes consistently outperformed other models in overall accuracy and F1 score\n",
    "    2. Random Forest achieved the highest precision but at the cost of lower recall\n",
    "    3. KNN showed perfect recall but struggled with precision\n",
    "    4. Decision Trees provided a good balance between performance and interpretability\n",
    "\n",
    "\n",
    "\n",
    "\n",
    "## 3.1 K-Nearest Neighbors (KNN)\n",
    "Results:\n",
    "\n",
    "    Accuracy: 0.62\n",
    "    Precision: 0.62\n",
    "    Recall: 1.00\n",
    "    F1 Score: 0.76\n",
    "\n",
    "## 3.2 Naive Bayes\n",
    "Results:\n",
    "\n",
    "    Accuracy: 0.85\n",
    "    Precision: 0.93\n",
    "    Recall: 0.82\n",
    "    F1 Score: 0.87\n",
    "\n",
    "## 3.3 Decision Tree\n",
    "Results:\n",
    "\n",
    "    Accuracy: 0.72\n",
    "    Precision: 0.69\n",
    "    Recall: 0.98\n",
    "    F1 Score: 0.81\n",
    "\n",
    "## 3.4 Random Forest\n",
    "Results:\n",
    "\n",
    "    Accuracy: 0.77\n",
    "    Precision: 0.99\n",
    "    Recall: 0.63\n",
    "    F1 Score: 0.77"
   ]
  },
  {
   "cell_type": "markdown",
   "metadata": {},
   "source": [
    "## Accuracy\n",
    "Since the knn accuracy is the biggest, it's the best model."
   ]
  },
  {
   "cell_type": "code",
   "execution_count": 8,
   "metadata": {},
   "outputs": [
    {
     "data": {
      "text/plain": [
       "['RF_math.joblib']"
      ]
     },
     "execution_count": 8,
     "metadata": {},
     "output_type": "execute_result"
    }
   ],
   "source": [
    "from joblib import dump, load\n",
    "dump(myrf, 'RF_math.joblib')"
   ]
  },
  {
   "cell_type": "markdown",
   "metadata": {},
   "source": [
    "# 4. Results Analysis\n",
    "## 4.1 Model Comparison\n",
    "The implemented models show varying strengths:\n",
    "\n",
    "1. KNN:\n",
    "\n",
    "    Simple implementation\n",
    "    Strong recall but lower precision\n",
    "    Limited by distance-based approach\n",
    "\n",
    "2. Naive Bayes:\n",
    "\n",
    "    Best overall performance\n",
    "    Well-balanced metrics\n",
    "    Effective probability-based approach\n",
    "\n",
    "3. Decision Tree:\n",
    "\n",
    "    Good interpretability\n",
    "    Strong recall\n",
    "    Tendency to overfit\n",
    "\n",
    "4. Random Forest:\n",
    "\n",
    "    Highest precision\n",
    "    More robust than single decision tree\n",
    "    Computational overhead\n",
    "\n",
    "# 4.2 Key Findings\n",
    "\n",
    "1. Home Advantage Impact:\n",
    "\n",
    "    Clear statistical evidence of home advantage\n",
    "    Significant factor in match outcomes\n",
    "    Consistent across different time periods\n",
    "\n",
    "2. Ranking Influence:\n",
    "\n",
    "    Team rankings are strong predictors\n",
    "    Higher-ranked teams perform more consistently\n",
    "    Important feature for all models\n",
    "\n",
    "3. Model Performance:\n",
    "\n",
    "    Naive Bayes shows best overall performance\n",
    "    Random Forest achieves highest precision\n",
    "    KNN demonstrates strong recall"
   ]
  },
  {
   "cell_type": "markdown",
   "metadata": {},
   "source": [
    "# 5. Conclusions and Future Work\n",
    "## 5.1 Conclusions\n",
    "\n",
    "    Naive Bayes provides the most balanced performance\n",
    "    Home advantage is a crucial factor in match outcomes\n",
    "    Team rankings are reliable predictive features\n",
    "\n",
    "## 5.2 Future Improvements\n",
    "\n",
    "To further improve the prediction accuracy, we recommend:\n",
    "\n",
    "Feature Engineering:\n",
    "\n",
    "    Include historical head-to-head results\n",
    "    Add player availability data\n",
    "    Consider weather conditions and travel distance\n",
    "\n",
    "\n",
    "Model Enhancements:\n",
    "\n",
    "    Implement ensemble methods combining multiple classifiers\n",
    "    Explore deep learning approaches for complex pattern recognition\n",
    "    Add confidence scores to predictions\n",
    "\n",
    "\n",
    "Data Expansion:\n",
    "\n",
    "    Include more recent matches as they become available\n",
    "    Add player-level statistics\n",
    "    Consider external factors such as rest days between matches\n",
    "\n",
    "## 5.3 Recommendations\n",
    "\n",
    "    1.Use Naive Bayes for general predictions\n",
    "    2.Consider Random Forest when precision is critical\n",
    "    3.Implement ensemble methods for improved robustness\n",
    "    4.Collect additional features for better prediction accuracy"
   ]
  }
 ],
 "metadata": {
  "kernelspec": {
   "display_name": "base",
   "language": "python",
   "name": "python3"
  },
  "language_info": {
   "codemirror_mode": {
    "name": "ipython",
    "version": 3
   },
   "file_extension": ".py",
   "mimetype": "text/x-python",
   "name": "python",
   "nbconvert_exporter": "python",
   "pygments_lexer": "ipython3",
   "version": "3.11.7"
  }
 },
 "nbformat": 4,
 "nbformat_minor": 2
}
